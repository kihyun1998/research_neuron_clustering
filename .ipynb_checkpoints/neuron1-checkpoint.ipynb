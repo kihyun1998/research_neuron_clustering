{
 "cells": [
  {
   "cell_type": "code",
   "execution_count": null,
   "id": "88767ac1",
   "metadata": {},
   "outputs": [],
   "source": [
    "from neuron import h\n",
    "from neuron import gui\n",
    "import matplotlib.pyplot as plt\n",
    "import numpy as np\n",
    "\n",
    "h.load_file(\"pyrCell.hoc\")\n",
    "myCell = h.pyrCell()\n",
    "\n",
    "stim = h.NetStim()\n",
    "stim.number=1\n",
    "stim.start=5000\n",
    "\n",
    "n=0;r=100\n",
    "syns=[]\n",
    "for i in range(r):\n",
    "    syn = h.Exp2Syn(n, sec=myCell.apic[63])\n",
    "    n+= 1/r\n",
    "    syn.e = 0\n",
    "    syn.tau1 = 0.3\n",
    "    syn.tau2 = 3\n",
    "    syns.append(syn)\n",
    "\n",
    "\n",
    "ncs=[]\n",
    "for i in range(r):\n",
    "    nc = h.NetCon(stim, syns[i])\n",
    "    nc.delay=1\n",
    "    nc.weight[0] = 0.0003\n",
    "    ncs.append(nc)\n",
    "\n",
    "\n",
    "t=h.Vector()\n",
    "t.record(h._ref_t)\n",
    "\n",
    "rec = h.Vector()\n",
    "rec.record(myCell.soma(0.5)._ref_v)\n",
    "\n",
    "h.finitialize(-60)\n",
    "h.continuerun(10000)\n",
    "\n",
    "# h.v_init = -65\n",
    "# h.tstop = 300\n",
    "# h.run()\n",
    "\n",
    "plt.ylabel('Voltage [mV]')\n",
    "plt.xlabel('Time [ms]')\n",
    "# plt.xlim(4500,5500)\n",
    "plt.plot(t,rec,label='soma')\n",
    "plt.legend()\n",
    "plt.show()"
   ]
  },
  {
   "cell_type": "code",
   "execution_count": 10,
   "id": "75bf536e",
   "metadata": {},
   "outputs": [
    {
     "ename": "IndentationError",
     "evalue": "unexpected indent (2314315642.py, line 9)",
     "output_type": "error",
     "traceback": [
      "\u001b[1;36m  Input \u001b[1;32mIn [10]\u001b[1;36m\u001b[0m\n\u001b[1;33m    pyrCell[8].apic[30].psection()\u001b[0m\n\u001b[1;37m    ^\u001b[0m\n\u001b[1;31mIndentationError\u001b[0m\u001b[1;31m:\u001b[0m unexpected indent\n"
     ]
    }
   ],
   "source": [
    "from neuron import h\n",
    "from neuron import gui\n",
    "import matplotlib.pyplot as plt\n",
    "import numpy as np\n",
    "\n",
    "h.load_file(\"pyrCell.hoc\")\n",
    "myCell = h.pyrCell()\n",
    "\n",
    "pyrCell[8].apic[30].psection()\n",
    "h.topology()"
   ]
  }
 ],
 "metadata": {
  "kernelspec": {
   "display_name": "Python 3 (ipykernel)",
   "language": "python",
   "name": "python3"
  },
  "language_info": {
   "codemirror_mode": {
    "name": "ipython",
    "version": 3
   },
   "file_extension": ".py",
   "mimetype": "text/x-python",
   "name": "python",
   "nbconvert_exporter": "python",
   "pygments_lexer": "ipython3",
   "version": "3.9.12"
  }
 },
 "nbformat": 4,
 "nbformat_minor": 5
}
