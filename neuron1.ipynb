{
 "cells": [
  {
   "cell_type": "code",
   "execution_count": null,
   "id": "88767ac1",
   "metadata": {},
   "outputs": [],
   "source": [
    "from neuron import h\n",
    "from neuron import gui\n",
    "import matplotlib.pyplot as plt\n",
    "import numpy as np\n",
    "\n",
    "h.load_file(\"pyrCell.hoc\")\n",
    "myCell = h.pyrCell()\n",
    "\n",
    "stim = h.NetStim()\n",
    "stim.number=1\n",
    "stim.start=5000\n",
    "\n",
    "n=0;r=100\n",
    "syns=[]\n",
    "for i in range(r):\n",
    "    syn = h.Exp2Syn(n, sec=myCell.apic[63])\n",
    "    n+= 1/r\n",
    "    syn.e = 0\n",
    "    syn.tau1 = 0.3\n",
    "    syn.tau2 = 3\n",
    "    syns.append(syn)\n",
    "\n",
    "\n",
    "ncs=[]\n",
    "for i in range(r):\n",
    "    nc = h.NetCon(stim, syns[i])\n",
    "    nc.delay=1\n",
    "    nc.weight[0] = 0.0003\n",
    "    ncs.append(nc)\n",
    "\n",
    "\n",
    "t=h.Vector()\n",
    "t.record(h._ref_t)\n",
    "\n",
    "rec = h.Vector()\n",
    "rec.record(myCell.soma(0.5)._ref_v)\n",
    "\n",
    "h.finitialize(-60)\n",
    "h.continuerun(10000)\n",
    "\n",
    "# h.v_init = -65\n",
    "# h.tstop = 300\n",
    "# h.run()\n",
    "\n",
    "plt.ylabel('Voltage [mV]')\n",
    "plt.xlabel('Time [ms]')\n",
    "# plt.xlim(4500,5500)\n",
    "plt.plot(t,rec,label='soma')\n",
    "plt.legend()\n",
    "plt.show()"
   ]
  },
  {
   "cell_type": "code",
   "execution_count": 28,
   "id": "5bb2078b",
   "metadata": {},
   "outputs": [
    {
     "name": "stdout",
     "output_type": "stream",
     "text": [
      "pyrCell[26].apic[56] { nseg=11  L=129.457  Ra=35.4\n",
      "\tpyrCell[26].apic[55] connect pyrCell[26].apic[56] (0), 1\n",
      "\t/* First segment only */\n",
      "\tinsert capacitance { cm=1.4}\n",
      "\tinsert morphology { diam=1.1664}\n",
      "\tinsert pas { g_pas=5e-05 e_pas=-70}\n",
      "\tinsert hd { ghdbar_hd=0.001 vhalfl_hd=-81 tau_hd=1}\n",
      "\tinsert kdr { gbar_kdr=0}\n",
      "\tinsert kca { gbar_kca=10}\n",
      "\tinsert cad2 {}\n",
      "\tinsert it2 { gcabar_it2=0}\n",
      "\tinsert sca { inactF_sca=3 actF_sca=1 gbar_sca=1}\n",
      "\tinsert ca_ion {}\n",
      "\tinsert hh3 { gnabar_hh3=0.004 gkbar_hh3=0 gkbar2_hh3=0.0001 gl_hh3=0 el_hh3=-70 vshift_hh3=0}\n",
      "\tinsert na_ion { ena=50}\n",
      "\tinsert km { gbar_km=0}\n",
      "\tinsert kap { gkabar_kap=0.003}\n",
      "\tinsert k_ion { ek=-77}\n",
      "}\n"
     ]
    },
    {
     "data": {
      "text/plain": [
       "1.0"
      ]
     },
     "execution_count": 28,
     "metadata": {},
     "output_type": "execute_result"
    }
   ],
   "source": [
    "from neuron import h\n",
    "from neuron import gui\n",
    "import matplotlib.pyplot as plt\n",
    "import numpy as np\n",
    "\n",
    "h.load_file(\"pyrCell.hoc\")\n",
    "myCell = h.pyrCell()\n",
    "\n",
    "h('access pyrCell[26].apic[56]')\n",
    "\n",
    "h.psection(myCell.apic[56])\n",
    "\n",
    "# h.topology()"
   ]
  }
 ],
 "metadata": {
  "kernelspec": {
   "display_name": "Python 3 (ipykernel)",
   "language": "python",
   "name": "python3"
  },
  "language_info": {
   "codemirror_mode": {
    "name": "ipython",
    "version": 3
   },
   "file_extension": ".py",
   "mimetype": "text/x-python",
   "name": "python",
   "nbconvert_exporter": "python",
   "pygments_lexer": "ipython3",
   "version": "3.9.12"
  }
 },
 "nbformat": 4,
 "nbformat_minor": 5
}
